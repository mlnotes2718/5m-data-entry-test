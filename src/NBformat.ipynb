{
 "cells": [
  {
   "cell_type": "markdown",
   "id": "eabd107f-bab7-4d1e-bd2b-97a936dfe92d",
   "metadata": {},
   "source": [
    "## Q1"
   ]
  },
  {
   "cell_type": "code",
   "execution_count": 1,
   "id": "ed2fa7c1-42c5-4c6c-be65-79e8c8a4d810",
   "metadata": {},
   "outputs": [],
   "source": [
    "def swap(x, y):\n",
    "    \"\"\"\n",
    "    Task 1\n",
    "    - Create a function that would swap the value of x and y using only x and y as variables.\n",
    "    - x and y must be numeric.\n",
    "    - Return -1 if x and y is not numeric, and\n",
    "    - print the swapped values if both x and y are numeric.\n",
    "    \"\"\"\n",
    "\n",
    "    # Checking if x and y is numeric\n",
    "    if isinstance(x,(int,float)) == False:\n",
    "        return -1\n",
    "    if isinstance(y,(int,float)) == False:\n",
    "        return -1\n",
    "\n",
    "    newx = y\n",
    "    newy = x\n",
    "\n",
    "    print('X is now {0} and Y is now {1}'.format(newx,newy))\n",
    "    return\n",
    "\n",
    "# Task 2\n",
    "# Invoke the function \"swap\" using the following scenarios:\n",
    "# - \"Apple\", 10\n",
    "# - 9, 17"
   ]
  },
  {
   "cell_type": "code",
   "execution_count": 2,
   "id": "c8fbcbec-ae76-4a6e-993e-baec2bb14188",
   "metadata": {},
   "outputs": [
    {
     "data": {
      "text/plain": [
       "-1"
      ]
     },
     "execution_count": 2,
     "metadata": {},
     "output_type": "execute_result"
    }
   ],
   "source": [
    "swap(\"Apple\",10)"
   ]
  },
  {
   "cell_type": "code",
   "execution_count": 3,
   "id": "c50ac2f6-cfc6-4523-956b-e5587a5e233e",
   "metadata": {},
   "outputs": [
    {
     "name": "stdout",
     "output_type": "stream",
     "text": [
      "X is now 17 and Y is now 9\n"
     ]
    }
   ],
   "source": [
    "swap(9,17)"
   ]
  },
  {
   "cell_type": "markdown",
   "id": "0e8ee7dd-c4ca-48df-a2fd-55349fd83dcb",
   "metadata": {},
   "source": [
    "## Q2"
   ]
  },
  {
   "cell_type": "code",
   "execution_count": 4,
   "id": "27ba83a9-7c19-4c72-bd5a-e3ec16d2b900",
   "metadata": {},
   "outputs": [],
   "source": [
    "def find_and_replace(lst, find_val, replace_val):\n",
    "    \"\"\"\n",
    "    Task 1\n",
    "    - Create a function that searches for all occurrences of a value (find_val) in a given list (lst) and replaces them with another value (replace_val).\n",
    "    - lst must be a list.\n",
    "    - Return the modified list.\n",
    "    \"\"\"\n",
    "    \n",
    "    # Checking if lst is a list\n",
    "    if isinstance(lst, list) == False:\n",
    "        print(\"The input is not a list\")\n",
    "        return -1\n",
    "\n",
    "    new_lst = lst[:]\n",
    "    for idx, each in enumerate(new_lst):\n",
    "        if each == find_val:\n",
    "            new_lst[idx] = replace_val\n",
    "    return new_lst\n",
    "\n",
    "# Task 2\n",
    "# Invoke the function \"find_and_replace\" using the following scenarios:\n",
    "# - [1, 2, 3, 4, 2, 2], 2, 5\n",
    "# - [\"apple\", \"banana\", \"apple\"], \"apple\", \"orange\""
   ]
  },
  {
   "cell_type": "code",
   "execution_count": 5,
   "id": "d181f5a6-6bb9-47ae-97cd-ef0344a77385",
   "metadata": {},
   "outputs": [
    {
     "data": {
      "text/plain": [
       "[1, 5, 3, 4, 5, 5]"
      ]
     },
     "execution_count": 5,
     "metadata": {},
     "output_type": "execute_result"
    }
   ],
   "source": [
    "find_and_replace([1, 2, 3, 4, 2, 2], 2, 5)"
   ]
  },
  {
   "cell_type": "code",
   "execution_count": 6,
   "id": "95f6663d-ee1e-4738-af9a-3a62b9c1dd08",
   "metadata": {},
   "outputs": [
    {
     "data": {
      "text/plain": [
       "['orange', 'banana', 'orange']"
      ]
     },
     "execution_count": 6,
     "metadata": {},
     "output_type": "execute_result"
    }
   ],
   "source": [
    "find_and_replace([\"apple\", \"banana\", \"apple\"], \"apple\", \"orange\")"
   ]
  },
  {
   "cell_type": "code",
   "execution_count": 7,
   "id": "df167950-191f-4b6d-864a-6945150f3e9b",
   "metadata": {},
   "outputs": [
    {
     "name": "stdout",
     "output_type": "stream",
     "text": [
      "The input is not a list\n"
     ]
    },
    {
     "data": {
      "text/plain": [
       "-1"
      ]
     },
     "execution_count": 7,
     "metadata": {},
     "output_type": "execute_result"
    }
   ],
   "source": [
    "find_and_replace((1,2,3), 2,1)"
   ]
  },
  {
   "cell_type": "markdown",
   "id": "07404b21-7673-4b52-858d-8d2c32b69d2e",
   "metadata": {},
   "source": [
    "## Q3"
   ]
  },
  {
   "cell_type": "code",
   "execution_count": 8,
   "id": "d7503a03-1512-4c16-927f-66c325cbb5e5",
   "metadata": {},
   "outputs": [],
   "source": [
    "def update_dictionary(dct, key, value):\n",
    "    \"\"\"\n",
    "    Task 1\n",
    "    - Create a function that updates a dictionary (dct) with a new key-value pair.\n",
    "    - If the key already exists in dct, print the original value, then update its value.\n",
    "    - Return the updated dictionary.\n",
    "    \"\"\"\n",
    "\n",
    "    \n",
    "    if key in dct:\n",
    "        old_value = dct[key]\n",
    "        dct[key] = value\n",
    "        print(\"Replacing key '{0}' from original value {1} to {2}\".format(key,old_value, value))\n",
    "    else:\n",
    "        dct[key] = value\n",
    "    return dct\n",
    "\n",
    "# Task 2\n",
    "# Invoke the function \"update_dictionary\" using the following scenarios:\n",
    "# - {}, \"name\", \"Alice\"\n",
    "# - {\"age\": 25}, \"age\", 26"
   ]
  },
  {
   "cell_type": "code",
   "execution_count": 9,
   "id": "8f7ac3cf-20b4-460c-965b-9d123edef83b",
   "metadata": {},
   "outputs": [
    {
     "data": {
      "text/plain": [
       "{'name': 'Alice'}"
      ]
     },
     "execution_count": 9,
     "metadata": {},
     "output_type": "execute_result"
    }
   ],
   "source": [
    "update_dictionary({}, \"name\", \"Alice\")"
   ]
  },
  {
   "cell_type": "code",
   "execution_count": 10,
   "id": "d32f566d-dbdd-4bf9-b68c-2d2cd16820ac",
   "metadata": {},
   "outputs": [
    {
     "name": "stdout",
     "output_type": "stream",
     "text": [
      "Replacing key 'age' from original value 25 to 26\n"
     ]
    },
    {
     "data": {
      "text/plain": [
       "{'age': 26}"
      ]
     },
     "execution_count": 10,
     "metadata": {},
     "output_type": "execute_result"
    }
   ],
   "source": [
    "update_dictionary( {\"age\": 25}, \"age\", 26)"
   ]
  },
  {
   "cell_type": "markdown",
   "id": "f3c6197f-6c32-417a-804a-8653865ea6fa",
   "metadata": {},
   "source": [
    "## Q4"
   ]
  },
  {
   "cell_type": "code",
   "execution_count": 11,
   "id": "bbdff1b0-35d9-4282-8533-5de19e31a9e2",
   "metadata": {},
   "outputs": [],
   "source": [
    "def string_reverse(s):\n",
    "    \"\"\"\n",
    "    Task 1\n",
    "    - Create a function that reverses a given string (s).\n",
    "    - s must be a string.\n",
    "    - Return the reversed string.\n",
    "    \"\"\"\n",
    "\n",
    "    # Checking if s is a string\n",
    "    if isinstance(s, str) == False:\n",
    "        print(\"The input is not a string\")\n",
    "        return -1\n",
    "\n",
    "    reverse_string = s[::-1]\n",
    "    return reverse_string\n",
    "\n",
    "\n",
    "# Task 2\n",
    "# Invoke the function \"string_reverse\" using the following scenarios:\n",
    "# - \"Hello World\"\n",
    "# - \"Python\""
   ]
  },
  {
   "cell_type": "code",
   "execution_count": 12,
   "id": "da10af67-b2d9-4e7c-aa42-0fd405d8ac19",
   "metadata": {},
   "outputs": [
    {
     "data": {
      "text/plain": [
       "'dlroW olleH'"
      ]
     },
     "execution_count": 12,
     "metadata": {},
     "output_type": "execute_result"
    }
   ],
   "source": [
    "string_reverse(\"Hello World\")"
   ]
  },
  {
   "cell_type": "code",
   "execution_count": 13,
   "id": "e16784f7-8540-4f81-bf15-c75eeb98b16e",
   "metadata": {},
   "outputs": [
    {
     "data": {
      "text/plain": [
       "'nohtyP'"
      ]
     },
     "execution_count": 13,
     "metadata": {},
     "output_type": "execute_result"
    }
   ],
   "source": [
    "string_reverse(\"Python\")"
   ]
  },
  {
   "cell_type": "code",
   "execution_count": 14,
   "id": "1ef9b0b5-23c9-4d13-948e-42cadc65373b",
   "metadata": {},
   "outputs": [
    {
     "name": "stdout",
     "output_type": "stream",
     "text": [
      "The input is not a string\n"
     ]
    },
    {
     "data": {
      "text/plain": [
       "-1"
      ]
     },
     "execution_count": 14,
     "metadata": {},
     "output_type": "execute_result"
    }
   ],
   "source": [
    "string_reverse(12345)"
   ]
  },
  {
   "cell_type": "markdown",
   "id": "1c306ed0-aea0-4e85-b940-4f940cf3ebd4",
   "metadata": {},
   "source": [
    "## Q5"
   ]
  },
  {
   "cell_type": "code",
   "execution_count": 15,
   "id": "b2ee14d6-443d-4c4d-83e2-3e1919299065",
   "metadata": {},
   "outputs": [],
   "source": [
    "def check_divisibility(num, divisor):\n",
    "    \"\"\"\n",
    "    Task 1\n",
    "    - Create a function to check if the number (num) is divisible by another number (divisor).\n",
    "    - Both num and divisor must be numeric.\n",
    "    - Return True if num is divisible by divisor, False otherwise.\n",
    "    \"\"\"\n",
    "\n",
    "    # Checking if the number and divisor is s number\n",
    "    if isinstance(num,(int,float)) == False:\n",
    "        print('num is not a number')\n",
    "        return -1\n",
    "    if isinstance(divisor,(int,float)) == False:\n",
    "        print('divisor is not a number')\n",
    "        return -1\n",
    "\n",
    "    # Make sure divisor is not a zero\n",
    "    if divisor == 0:\n",
    "        print('divisor must not be a zero')\n",
    "        return -1\n",
    "    \n",
    "    if num%divisor == 0:\n",
    "        return True\n",
    "    return False\n",
    "\n",
    "\n",
    "# Task 2\n",
    "# Invoke the function \"check_divisibility\" using the following scenarios:\n",
    "# - 10, 2\n",
    "# - 7, 3\n"
   ]
  },
  {
   "cell_type": "code",
   "execution_count": 16,
   "id": "8731e16d-7609-4ce9-850b-51c881b6a1b2",
   "metadata": {},
   "outputs": [
    {
     "data": {
      "text/plain": [
       "True"
      ]
     },
     "execution_count": 16,
     "metadata": {},
     "output_type": "execute_result"
    }
   ],
   "source": [
    "check_divisibility(10, 2)"
   ]
  },
  {
   "cell_type": "code",
   "execution_count": 17,
   "id": "ff47c46e-a936-4dc2-887c-d9017f2b0a29",
   "metadata": {},
   "outputs": [
    {
     "data": {
      "text/plain": [
       "False"
      ]
     },
     "execution_count": 17,
     "metadata": {},
     "output_type": "execute_result"
    }
   ],
   "source": [
    "check_divisibility(7, 3)"
   ]
  },
  {
   "cell_type": "code",
   "execution_count": 18,
   "id": "3bae59d6-9fac-4439-aa9f-842c254f5db2",
   "metadata": {},
   "outputs": [
    {
     "name": "stdout",
     "output_type": "stream",
     "text": [
      "num is not a number\n"
     ]
    },
    {
     "data": {
      "text/plain": [
       "-1"
      ]
     },
     "execution_count": 18,
     "metadata": {},
     "output_type": "execute_result"
    }
   ],
   "source": [
    "check_divisibility('7', 3)"
   ]
  },
  {
   "cell_type": "code",
   "execution_count": 19,
   "id": "62067a4d-d6f3-46b7-9a82-339de50b29cb",
   "metadata": {},
   "outputs": [
    {
     "name": "stdout",
     "output_type": "stream",
     "text": [
      "divisor must not be a zero\n"
     ]
    },
    {
     "data": {
      "text/plain": [
       "-1"
      ]
     },
     "execution_count": 19,
     "metadata": {},
     "output_type": "execute_result"
    }
   ],
   "source": [
    "check_divisibility(76, 0)"
   ]
  },
  {
   "cell_type": "markdown",
   "id": "36eb6f2d-e471-4f46-9ccb-18e6b108029b",
   "metadata": {},
   "source": [
    "## Q6"
   ]
  },
  {
   "cell_type": "code",
   "execution_count": 20,
   "id": "4df8c193-768a-457a-bdfb-4e276479d022",
   "metadata": {},
   "outputs": [],
   "source": [
    "def find_first_negative(lst):\n",
    "    \"\"\"\n",
    "    Task 1\n",
    "    - Create a function that finds the first negative number in a list (lst).\n",
    "    - Return the first negative number if found, otherwise return \"No negatives\".\n",
    "    - Use a while loop to implement this.\n",
    "    \"\"\"\n",
    "\n",
    "    negatives = False\n",
    "    negative_number = None\n",
    "    end_of_list = len(lst)\n",
    "    idx = 0\n",
    "\n",
    "    while idx < end_of_list:\n",
    "        if lst[idx] < 0:\n",
    "            negatives = True\n",
    "            negative_number = lst[idx]\n",
    "            return negative_number\n",
    "        idx += 1\n",
    "\n",
    "    return \"No negatives\"\n",
    "\n",
    "\n",
    "# Task 2\n",
    "# Invoke the function \"find_first_negative\" using the following scenario:\n",
    "# - [3, 5, -1, 7, -2, 8]\n",
    "# - [2, 10, 7, 0]\n"
   ]
  },
  {
   "cell_type": "code",
   "execution_count": 21,
   "id": "db945d15-c0bb-4b48-a025-1f7ef875aeb2",
   "metadata": {},
   "outputs": [
    {
     "data": {
      "text/plain": [
       "-1"
      ]
     },
     "execution_count": 21,
     "metadata": {},
     "output_type": "execute_result"
    }
   ],
   "source": [
    "find_first_negative([3, 5, -1, 7, -2, 8])"
   ]
  },
  {
   "cell_type": "code",
   "execution_count": 22,
   "id": "c0a53159-66cf-4951-bdd7-e9d9b5357272",
   "metadata": {},
   "outputs": [
    {
     "data": {
      "text/plain": [
       "'No negatives'"
      ]
     },
     "execution_count": 22,
     "metadata": {},
     "output_type": "execute_result"
    }
   ],
   "source": [
    "find_first_negative([2, 10, 7, 0])"
   ]
  },
  {
   "cell_type": "markdown",
   "id": "fa78e16a-92f2-4826-9ee8-08b9cf7305ea",
   "metadata": {},
   "source": [
    "## Q7"
   ]
  },
  {
   "cell_type": "code",
   "execution_count": 23,
   "id": "953270e1-b1e3-412a-b21f-fbb68d48bf0c",
   "metadata": {},
   "outputs": [],
   "source": [
    "class Car:\n",
    "    \"\"\"\n",
    "    Task 1\n",
    "    - Define a class named Car with attributes: make, model, year\n",
    "    - Initialize these attributes in the __init__ method\n",
    "    - Add a method named describe_car() that prints information about the car as \"Year Make Model\"\n",
    "    \"\"\"\n",
    "\n",
    "    def __init__(self, initMake, initModel, initYear):\n",
    "        self.make = initMake\n",
    "        self.model = initModel\n",
    "        self.year = initYear\n",
    "        \n",
    "    def describe_car(self):\n",
    "        print(\"Year: {0}, Make: {1}, Model: {2}\".format(self.year, self.make, self.model))\n",
    "\n",
    "\n",
    "# Task 2\n",
    "# Create an instance of the Car class with the following attributes and call describe_car method:\n",
    "# - Make: Toyota, Model: Corolla, Year: 2020\n"
   ]
  },
  {
   "cell_type": "code",
   "execution_count": 24,
   "id": "8c4c2634-3fbb-4e83-a582-eac8babb765c",
   "metadata": {},
   "outputs": [],
   "source": [
    "my_car = Car('Toyota', 'Corolla', 2020)"
   ]
  },
  {
   "cell_type": "code",
   "execution_count": 25,
   "id": "55d1b4e6-c839-4670-80a9-a550e587b3e9",
   "metadata": {},
   "outputs": [
    {
     "name": "stdout",
     "output_type": "stream",
     "text": [
      "Year: 2020, Make: Toyota, Model: Corolla\n"
     ]
    }
   ],
   "source": [
    "my_car.describe_car()"
   ]
  }
 ],
 "metadata": {
  "kernelspec": {
   "display_name": "Python 3 (ipykernel)",
   "language": "python",
   "name": "python3"
  },
  "language_info": {
   "codemirror_mode": {
    "name": "ipython",
    "version": 3
   },
   "file_extension": ".py",
   "mimetype": "text/x-python",
   "name": "python",
   "nbconvert_exporter": "python",
   "pygments_lexer": "ipython3",
   "version": "3.11.5"
  }
 },
 "nbformat": 4,
 "nbformat_minor": 5
}
